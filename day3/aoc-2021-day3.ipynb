{
 "cells": [
  {
   "cell_type": "markdown",
   "metadata": {},
   "source": [
    "# Advent of Code 2021 - Day 2\n"
   ]
  },
  {
   "cell_type": "code",
   "execution_count": 1,
   "metadata": {},
   "outputs": [],
   "source": [
    "import sys\n",
    "sys.path.append('..')\n",
    "from helpers.load_txt import load_txt_to_list"
   ]
  },
  {
   "cell_type": "code",
   "execution_count": null,
   "metadata": {},
   "outputs": [],
   "source": [
    "\"\"\"\n",
    "--- Day 3: Binary Diagnostic ---\n",
    "The submarine has been making some odd creaking noises, so you ask it to produce a diagnostic report just in case.\n",
    "\n",
    "The diagnostic report (your puzzle input) consists of a list of binary numbers which, when decoded properly, can tell you many useful things about the conditions of the submarine. The first parameter to check is the power consumption.\n",
    "\n",
    "You need to use the binary numbers in the diagnostic report to generate two new binary numbers (called the gamma rate and the epsilon rate). The power consumption can then be found by multiplying the gamma rate by the epsilon rate.\n",
    "\n",
    "Each bit in the gamma rate can be determined by finding the most common bit in the corresponding position of all numbers in the diagnostic report. For example, given the following diagnostic report:\n",
    "\n",
    "00100\n",
    "11110\n",
    "10110\n",
    "10111\n",
    "10101\n",
    "01111\n",
    "00111\n",
    "11100\n",
    "10000\n",
    "11001\n",
    "00010\n",
    "01010\n",
    "Considering only the first bit of each number, there are five 0 bits and seven 1 bits. Since the most common bit is 1, the first bit of the gamma rate is 1.\n",
    "\n",
    "The most common second bit of the numbers in the diagnostic report is 0, so the second bit of the gamma rate is 0.\n",
    "\n",
    "The most common value of the third, fourth, and fifth bits are 1, 1, and 0, respectively, and so the final three bits of the gamma rate are 110.\n",
    "\n",
    "So, the gamma rate is the binary number 10110, or 22 in decimal.\n",
    "\n",
    "The epsilon rate is calculated in a similar way; rather than use the most common bit, the least common bit from each position is used. So, the epsilon rate is 01001, or 9 in decimal. Multiplying the gamma rate (22) by the epsilon rate (9) produces the power consumption, 198.\n",
    "\n",
    "Use the binary numbers in your diagnostic report to calculate the gamma rate and epsilon rate, then multiply them together. What is the power consumption of the submarine? (Be sure to represent your answer in decimal, not binary.)\n",
    "\"\"\""
   ]
  },
  {
   "cell_type": "code",
   "execution_count": 45,
   "metadata": {},
   "outputs": [],
   "source": [
    "puzzle_input_raw = load_txt_to_list(3,'str')"
   ]
  },
  {
   "cell_type": "code",
   "execution_count": 46,
   "metadata": {},
   "outputs": [],
   "source": [
    "puzzle_input = [item.strip() for item in puzzle_input_raw]"
   ]
  },
  {
   "cell_type": "code",
   "execution_count": 47,
   "metadata": {},
   "outputs": [],
   "source": [
    "example = [\n",
    "    \"00100\",\n",
    "    \"11110\",\n",
    "    \"10110\",\n",
    "    \"10111\",\n",
    "    \"10101\",\n",
    "    \"01111\",\n",
    "    \"00111\",\n",
    "    \"11100\",\n",
    "    \"10000\",\n",
    "    \"11001\",\n",
    "    \"00010\",\n",
    "    \"01010\"\n",
    "]"
   ]
  },
  {
   "cell_type": "markdown",
   "metadata": {},
   "source": [
    "Determine the most common bits"
   ]
  },
  {
   "cell_type": "code",
   "execution_count": 52,
   "metadata": {},
   "outputs": [
    {
     "name": "stdout",
     "output_type": "stream",
     "text": [
      "1000\n",
      "Pos: 0 True Bits: 514\n",
      "Pos: 1 True Bits: 510\n",
      "Pos: 2 True Bits: 497\n",
      "Pos: 3 True Bits: 487\n",
      "Pos: 4 True Bits: 502\n",
      "Gamma Rate: [1, 1, 0, 0, 1]\n",
      "Epsilon Rate: [0, 0, 1, 1, 0]\n"
     ]
    }
   ],
   "source": [
    "gamma_rate = [0,0,0,0,0]\n",
    "epsilon_rate = [0,0,0,0,0]\n",
    "\n",
    "num_readings = len(puzzle_input)\n",
    "\n",
    "for position in range(5):\n",
    "    \n",
    "    true_bits = 0\n",
    "    \n",
    "    for reading in range(num_readings):\n",
    "        \n",
    "        bit = puzzle_input[reading][position]\n",
    "        \n",
    "        true_bits += int(bit)\n",
    "    \n",
    "    print(f\"Pos: {position} True Bits: {true_bits}\")\n",
    "    \n",
    "    \n",
    "    if (true_bits / num_readings) > 0.5:\n",
    "        gamma_rate[position] = 1\n",
    "    else:\n",
    "        epsilon_rate[position] = 1\n",
    "        \n",
    "print(f\"Gamma Rate: {gamma_rate}\")\n",
    "print(f\"Epsilon Rate: {epsilon_rate}\")"
   ]
  },
  {
   "cell_type": "markdown",
   "metadata": {},
   "source": [
    "Convert to decimal value"
   ]
  },
  {
   "cell_type": "code",
   "execution_count": 49,
   "metadata": {},
   "outputs": [],
   "source": [
    "def binary_list_to_decimal(input_list: list) -> int:\n",
    "    \n",
    "    _str = ''.join([str(item) for item in input_list])\n",
    "    \n",
    "    return int(_str, base=2)"
   ]
  },
  {
   "cell_type": "code",
   "execution_count": 50,
   "metadata": {},
   "outputs": [
    {
     "name": "stdout",
     "output_type": "stream",
     "text": [
      "Gamma Rate: 25\n",
      "Epsilon Rate: 6\n",
      "Power Consumption: 150\n"
     ]
    }
   ],
   "source": [
    "gamma_int = binary_list_to_decimal(gamma_rate)\n",
    "epsilon_int = binary_list_to_decimal(epsilon_rate)\n",
    "power_consumption = gamma_int * epsilon_int\n",
    "\n",
    "print(f\"Gamma Rate: {gamma_int}\")\n",
    "print(f\"Epsilon Rate: {epsilon_int}\")\n",
    "print(f\"Power Consumption: {power_consumption}\")"
   ]
  },
  {
   "cell_type": "code",
   "execution_count": null,
   "metadata": {},
   "outputs": [],
   "source": []
  }
 ],
 "metadata": {
  "interpreter": {
   "hash": "a4d0b2f571f53d43c54a4f9b0e4ac2b2979e7ce77512bcd89b6d325f8b493e3a"
  },
  "kernelspec": {
   "display_name": "Python 3.9.7 64-bit",
   "language": "python",
   "name": "python3"
  },
  "language_info": {
   "codemirror_mode": {
    "name": "ipython",
    "version": 3
   },
   "file_extension": ".py",
   "mimetype": "text/x-python",
   "name": "python",
   "nbconvert_exporter": "python",
   "pygments_lexer": "ipython3",
   "version": "3.9.7"
  },
  "orig_nbformat": 4
 },
 "nbformat": 4,
 "nbformat_minor": 2
}
